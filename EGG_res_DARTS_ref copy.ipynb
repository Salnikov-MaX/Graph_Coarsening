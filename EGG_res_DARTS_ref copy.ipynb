{
 "cells": [
  {
   "cell_type": "code",
   "execution_count": null,
   "metadata": {
    "pycharm": {
     "name": "#%%\n"
    }
   },
   "outputs": [],
   "source": [
    "from Grid_to_Graph.GRDECL_Parser import GRDECL_Parser\n",
    "from Grid_to_Graph.struct_discretizer import StructDiscretizer\n",
    "import numpy as np\n",
    "import graph_coarsening.graph_utils as graph_utils\n",
    "#import graph_coarsening.useful_custom_functions as useful_custom_functions\n",
    "from graph_coarsening.coarsening_utils import *\n",
    "from collections import defaultdict\n",
    "from operator import itemgetter\n",
    "import pandas as pd\n",
    "import fileinput\n",
    "import sys\n",
    "import os\n",
    "from pygsp import graphs\n",
    "%matplotlib inline\n",
    "# %matplotlib notebook\n",
    "# %pylab\n",
    "plt.rcParams['figure.figsize'] = (11, 9)"
   ]
  },
  {
   "cell_type": "code",
   "execution_count": null,
   "metadata": {
    "pycharm": {
     "name": "#%%\n"
    }
   },
   "outputs": [],
   "source": [
    "def OneDim_to_ThreeDim_Converter(i_max, j_max, k_max, One_Dim):\n",
    "    # приводим массив к 3D размерности грида.\n",
    "    Three_Dim = np.array(np.zeros((i_max, j_max, k_max)))\n",
    "    i = 0\n",
    "    j = 0\n",
    "    k = 0\n",
    "    z = 0\n",
    "\n",
    "    while k <= k_max - 1:\n",
    "        while j <= j_max - 1:\n",
    "            while i <= i_max - 1:\n",
    "                Three_Dim[i, j, k] = One_Dim[z]\n",
    "                i += 1\n",
    "                z += 1\n",
    "            i = 0\n",
    "            j += 1\n",
    "        j = 0\n",
    "        k += 1\n",
    "\n",
    "    return Three_Dim\n",
    "\n",
    "\n",
    "def get_coarsening(Gall, Call, size=5, node_size=20, title=\"\"):\n",
    "    edges_s = {}\n",
    "\n",
    "    n_levels = len(Gall) - 1\n",
    "    for level in range(n_levels):\n",
    "        G = Gall[level]\n",
    "        edges = np.array(G.get_edge_list()[0:2])\n",
    "\n",
    "        Gc = Gall[level + 1]\n",
    "        edges_c = np.array(Gc.get_edge_list()[0:2])\n",
    "        C = Call[level]\n",
    "        C = C.toarray()\n",
    "\n",
    "        for i in range(Gc.N):\n",
    "            subgraph = np.arange(G.N)[C[i, :] > 0]\n",
    "            edges_s[i] = subgraph\n",
    "            #if np.clip(len(subgraph) - 1, 0, 4) > 0:\n",
    "            #edges_s[i] = subgraph\n",
    "\n",
    "    return edges_s\n",
    "\n",
    "\n",
    "def replaceAll(file, searchExp, replaceExp):\n",
    "    for line in fileinput.input(file, inplace=1):\n",
    "        if searchExp in line:\n",
    "            line = line.replace(searchExp,replaceExp)\n",
    "        sys.stdout.write(line)"
   ]
  },
  {
   "cell_type": "markdown",
   "metadata": {
    "pycharm": {
     "name": "#%% md\n"
    }
   },
   "source": [
    "Считываем данные по гриду"
   ]
  },
  {
   "cell_type": "code",
   "execution_count": null,
   "metadata": {},
   "outputs": [],
   "source": [
    "# from grid2graph.data import *\n",
    "# dataset_list = get_dataset('dataset/', tensor_path='dataset/tensor.pt', i_max=60, j_max=60, z_max=1)\n",
    "# dataset_list"
   ]
  },
  {
   "cell_type": "code",
   "execution_count": null,
   "metadata": {},
   "outputs": [],
   "source": [
    "# poro = []\n",
    "# perm = []\n",
    "\n",
    "# for d in tqdm(dataset_list):\n",
    "#     poro.append(d.x[:, 0].cpu())\n",
    "#     perm.append(d.x[:, 1].cpu())\n",
    "\n",
    "# poro = np.concatenate((poro), axis=0)\n",
    "# permx = np.concatenate((perm), axis=0)"
   ]
  },
  {
   "cell_type": "code",
   "execution_count": null,
   "metadata": {},
   "outputs": [],
   "source": [
    "grid_file = 'data/3Dgrid_5000.grdecl'\n",
    "\n",
    "replaceAll(grid_file,'-- Generated : Petrel',\" \")\n",
    "\n",
    "grid_data = GRDECL_Parser(grid_file)"
   ]
  },
  {
   "cell_type": "code",
   "execution_count": null,
   "metadata": {
    "pycharm": {
     "name": "#%%\n"
    }
   },
   "outputs": [],
   "source": [
    "dx = 8 \n",
    "dy = 8\n",
    "dz = 4\n",
    "\n",
    "\n",
    "\n",
    "actnum = grid_data.ACTNUM\n",
    "nx = grid_data.NX\n",
    "ny = grid_data.NY\n",
    "nz = grid_data.NZ\n",
    "\n",
    "coord = grid_data.COORD\n",
    "\n",
    "zcorn = grid_data.ZCORN\n",
    "\n",
    "permx = grid_data.SpatialDatas['PERMX'] * 100\n",
    "permx[permx<=0] = 0.0002\n",
    "permy = permx\n",
    "permz = permy\n",
    "\n",
    "poro = grid_data.SpatialDatas['PORO']\n",
    "poro[poro<=0] = 0.0002\n",
    "\n",
    "volume = np.zeros_like(poro)\n",
    "volume.fill(dx*dy*dz)\n",
    "\n",
    "depth = np.array([zcorn[i-8:i].mean() for i in np.arange(8, len(zcorn)+1, 8)])\n",
    "\n",
    "n = nx * ny * nz"
   ]
  },
  {
   "cell_type": "code",
   "execution_count": null,
   "metadata": {},
   "outputs": [],
   "source": [
    "# df = pd.DataFrame([])\n",
    "# df['PORO'] = poro\n",
    "# df['PERM'] = permx\n",
    "# df['ACTNUM'] = actnum\n",
    "\n",
    "# df.to_csv('dataset/EGG.csv')\n"
   ]
  },
  {
   "cell_type": "code",
   "execution_count": null,
   "metadata": {},
   "outputs": [],
   "source": [
    "\n",
    "# # Визуализируем первый грид на первом subplot\n",
    "# def vis(grid1):\n",
    "#     fig, (ax1, ax2) = plt.subplots(1, 2, subplot_kw={'projection': '3d'}, figsize=(6, 6))\n",
    "\n",
    "#     # Визуализируем первый грид на первом subplot\n",
    "#     x, y, z = np.meshgrid(np.arange(grid1.shape[0]),\n",
    "#                           np.arange(grid1.shape[1]),\n",
    "#                           np.arange(grid1.shape[2]))\n",
    "#     print(x.ravel())\n",
    "    \n",
    "#     ax1.scatter(x.ravel(), y.ravel(), z.ravel(), c=grid1.flatten(), vmin=0, vmax=1)\n",
    "\n",
    "#     plt.show()\n",
    "\n",
    "\n",
    "# vis(discretizer.convert_to_3d_array(poro, 'PORO'))"
   ]
  },
  {
   "cell_type": "code",
   "execution_count": null,
   "metadata": {},
   "outputs": [],
   "source": [
    "# discretizer.convert_to_3d_array(poro, 'PORO').ravel()"
   ]
  },
  {
   "cell_type": "markdown",
   "metadata": {},
   "source": [
    "Получаем conection list"
   ]
  },
  {
   "cell_type": "code",
   "execution_count": null,
   "metadata": {
    "pycharm": {
     "name": "#%%\n"
    }
   },
   "outputs": [],
   "source": [
    "discretizer = StructDiscretizer(nx=nx, ny=ny, nz=nz, dx=dx, dy=dy, dz=dz, permx=permx, permy=permy,\n",
    "                                             permz=permz, coord=coord, zcorn=zcorn)\n",
    "\n",
    "if discretizer.is_cpg:\n",
    "    cell_m, cell_p, tran, tran_thermal = discretizer.calc_cpg_discr()\n",
    "else:\n",
    "    cell_m, cell_p, tran, tran_thermal = discretizer.calc_structured_discr()"
   ]
  },
  {
   "cell_type": "code",
   "execution_count": null,
   "metadata": {},
   "outputs": [],
   "source": [
    "permx.shape , poro.shape , depth.shape, volume.shape"
   ]
  },
  {
   "cell_type": "code",
   "execution_count": null,
   "metadata": {
    "pycharm": {
     "name": "#%%\n"
    }
   },
   "outputs": [],
   "source": [
    "# apply actnum filter if needed - all arrays providing a value for a single grid block should be passed\n",
    "op_num = 0\n",
    "arrs = [poro, depth, volume, op_num]\n",
    "\n",
    "cell_m, cell_p, tran, tran_thermal, arrs_local = discretizer.apply_actnum_filter(actnum, cell_m,\n",
    "                                                                                 cell_p, tran,\n",
    "                                                                                 tran_thermal, arrs)\n",
    "poro, depth, volume, op_num = arrs_local\n",
    "\n",
    "permx = permx[actnum != 0]"
   ]
  },
  {
   "cell_type": "markdown",
   "metadata": {},
   "source": [
    "Создаём граф"
   ]
  },
  {
   "cell_type": "code",
   "execution_count": null,
   "metadata": {
    "pycharm": {
     "name": "#%%\n"
    }
   },
   "outputs": [],
   "source": [
    "# n = nx*ny*nz\n",
    "# graph_W = np.zeros((n, n))\n",
    "# for i, j, t in zip(cell_m, cell_p, tran):\n",
    "#     if t > 0:\n",
    "#         w = 1/t\n",
    "#     else:\n",
    "#         w = 1/0.0001\n",
    "#     graph_W[i][j] = w\n",
    "#     graph_W[j][i] = w"
   ]
  },
  {
   "cell_type": "code",
   "execution_count": null,
   "metadata": {},
   "outputs": [],
   "source": [
    "edges = list(zip(cell_m, cell_p))\n",
    "#weights = [1/t if t>0 else 1/0.0001 for t in tran]\n",
    "weights = [t for t in tran]\n",
    "\n",
    "# Количество вершин в графе\n",
    "num_vertices = len(set(sum(edges, ())))\n",
    "\n",
    "# Создание матрицы смежности\n",
    "adjacency_matrix = np.zeros((num_vertices, num_vertices))\n",
    "for edge, weight in zip(edges, weights):\n",
    "    adjacency_matrix[edge[0], edge[1]] = weight\n",
    "    adjacency_matrix[edge[1], edge[0]] = weight"
   ]
  },
  {
   "cell_type": "code",
   "execution_count": null,
   "metadata": {
    "pycharm": {
     "name": "#%%\n"
    }
   },
   "outputs": [],
   "source": [
    "coords = np.array(OneDim_to_ThreeDim_Converter(nx, ny, nz, np.arange(n) - 1))\n",
    "coords_new = np.zeros((n, 3))\n",
    "for i in range(nx):\n",
    "    for j in range(ny):\n",
    "        for k in range(nz):\n",
    "            if coords[i, j, k] != -1:\n",
    "                coords_new[int(coords[i, j, k])] = np.array([i, j, k])\n",
    "\n",
    "coords_new = coords_new[actnum != 0]"
   ]
  },
  {
   "cell_type": "code",
   "execution_count": null,
   "metadata": {
    "pycharm": {
     "name": "#%%\n"
    }
   },
   "outputs": [],
   "source": [
    "N = coords_new.shape[0]\n",
    "\n",
    "G = graphs.Graph(adjacency_matrix)\n",
    "\n",
    "G.set_coordinates(coords_new)\n",
    "\n",
    "\n",
    "N = G.N\n",
    "L = G.L.toarray()\n",
    "S = graph_utils.get_S(G).T"
   ]
  },
  {
   "cell_type": "markdown",
   "metadata": {
    "pycharm": {
     "name": "#%% md\n"
    }
   },
   "source": [
    "Загрубляем граф"
   ]
  },
  {
   "cell_type": "code",
   "execution_count": null,
   "metadata": {
    "pycharm": {
     "name": "#%%\n"
    }
   },
   "outputs": [],
   "source": [
    "method = 'heavy_edge'\n",
    "\n",
    "# Parameters\n",
    "r = 0.4   # the extend of dimensionality reduction (r=0 means no reduction)\n",
    "k = 50\n",
    "kmax = int(3 * k)\n",
    "\n",
    "C, Gc, Call, Gall, coarsening_list, iC, err_list, r_list = coarsen(G, K=k, r=r, method=method, \n",
    "                            #algorithm = \"optimal\"\n",
    "                            )\n",
    "#metrics = coarsening_quality(G, C, kmax=kmax)\n",
    "n = Gc.N\n",
    "\n",
    "# print('{:16} | r: {:1.4}, nedges: {}, levels: {}, epsilon: {:1.4}'.format(method, metrics['r'], metrics['m'], len(Call),\n",
    "#                                                                           metrics['error_subspace'][k - 1]))\n",
    "\n",
    "metrics = coarsening_quality(G, C, kmax=k)\n",
    "np.nanmean(metrics['error_eigenvalue']) "
   ]
  },
  {
   "cell_type": "code",
   "execution_count": null,
   "metadata": {},
   "outputs": [],
   "source": [
    "plt.plot(r_list, err_list, '-')\n"
   ]
  },
  {
   "cell_type": "code",
   "execution_count": null,
   "metadata": {},
   "outputs": [],
   "source": [
    "plt.plot(r_list, err_list, '-')\n"
   ]
  },
  {
   "cell_type": "code",
   "execution_count": null,
   "metadata": {},
   "outputs": [],
   "source": [
    "import plotly.express as px\n",
    "\n",
    "\n",
    "fig = px.line(y=err_list, x=r_list)\n",
    "fig.show()\n",
    "# fig.write_html(\"3d_coarsening.html\")"
   ]
  },
  {
   "cell_type": "code",
   "execution_count": null,
   "metadata": {},
   "outputs": [],
   "source": [
    "!pip install plotly"
   ]
  },
  {
   "cell_type": "code",
   "execution_count": null,
   "metadata": {},
   "outputs": [],
   "source": [
    "metrics = coarsening_quality(G, C, kmax=100)\n",
    "np.nanmean(metrics['error_eigenvalue']) "
   ]
  },
  {
   "cell_type": "code",
   "execution_count": null,
   "metadata": {},
   "outputs": [],
   "source": [
    "Gall[1].coords[:,[0]].shape"
   ]
  },
  {
   "cell_type": "code",
   "execution_count": null,
   "metadata": {},
   "outputs": [],
   "source": [
    "plt.scatter(coords_new[:,[0]], coords_new[:,[1]])"
   ]
  },
  {
   "cell_type": "code",
   "execution_count": null,
   "metadata": {},
   "outputs": [],
   "source": [
    "plt.scatter(Gall[1].coords[:,[0]], Gall[1].coords[:,[1]])"
   ]
  },
  {
   "cell_type": "code",
   "execution_count": null,
   "metadata": {},
   "outputs": [],
   "source": [
    "def coarsening_quality_(G, C, kmax=30, Uk=None, lk=None):\n",
    "    if (Uk is not None) and (lk is not None) and (len(lk) >= kmax):\n",
    "        U, l = Uk, lk\n",
    "    elif hasattr(G, \"U\"):\n",
    "        U, l = G.U, G.e\n",
    "    else:\n",
    "        l, U = sp.sparse.linalg.eigsh(G.L, k=kmax, which=\"SM\", tol=1e-3)\n",
    "\n",
    "    l[0] = 1\n",
    "    linv = l ** (-0.5)\n",
    "    linv[0] = 0\n",
    "    n = C.shape[0]\n",
    "    Lc = C.dot((G.L).dot(C.T))\n",
    "\n",
    "    # if kmax > n / 2:\n",
    "    #     [Uc, lc] = graph_utils.eig(Lc.toarray())\n",
    "    # else:\n",
    "    lc, Uc = sp.sparse.linalg.eigsh(Lc, k=kmax, which=\"SM\", tol=1e-3)\n",
    "\n",
    "    if not sp.sparse.issparse(Lc):\n",
    "        print(\"warning: Lc should be sparse.\")\n",
    "\n",
    "    metrics = {}\n",
    "    kmax = np.clip(kmax, 1, n)\n",
    "\n",
    "    # eigenvalue relative error\n",
    "    metrics[\"error_eigenvalue\"] = np.abs(l[:kmax] - lc[:kmax]) / l[:kmax]\n",
    "    metrics[\"error_eigenvalue\"][0] = 0\n",
    "\n",
    "    return metrics, l, lc\n",
    "\n",
    "\n",
    "metrics, l, lc = coarsening_quality_(G, C, kmax=int(G.N/200))\n",
    "np.nanmean(metrics['error_eigenvalue']) "
   ]
  },
  {
   "cell_type": "code",
   "execution_count": null,
   "metadata": {},
   "outputs": [],
   "source": [
    "l[:k], lc"
   ]
  },
  {
   "cell_type": "code",
   "execution_count": null,
   "metadata": {},
   "outputs": [],
   "source": [
    "l"
   ]
  },
  {
   "cell_type": "code",
   "execution_count": null,
   "metadata": {
    "pycharm": {
     "name": "#%%\n"
    }
   },
   "outputs": [],
   "source": [
    "poro_d = poro\n",
    "perm_d = permx\n",
    "\n",
    "poro_d_2 = coarsen_vector(poro_d, C)\n",
    "perm_d_2 = coarsen_vector(perm_d, C)\n",
    "depth_d_2 = coarsen_vector(depth, C)"
   ]
  },
  {
   "cell_type": "code",
   "execution_count": null,
   "metadata": {},
   "outputs": [],
   "source": [
    "g_dict = get_coarsening(Gall, Call, size=5)\n",
    "num_of_cells = np.array([len(g) for g in g_dict.values()])\n",
    "\n",
    "v = np.zeros_like(poro_d_2)\n",
    "v.fill(dx*dy*dz)\n",
    "volume = num_of_cells * v"
   ]
  },
  {
   "cell_type": "code",
   "execution_count": null,
   "metadata": {},
   "outputs": [],
   "source": [
    "from sklearn.svm import SVR\n",
    "from sklearn.metrics import mean_squared_error\n",
    "from sklearn.model_selection import train_test_split\n",
    "from sklearn.ensemble import GradientBoostingRegressor\n",
    "\n",
    "y = poro.reshape(-1,1)\n",
    "x = permx.reshape(-1,1)\n",
    "\n",
    "x_train, x_test, y_train, y_test = train_test_split(x, y, test_size=0.3, random_state=0)\n",
    "\n",
    "model = GradientBoostingRegressor(n_estimators=100, learning_rate=0.1, max_depth=3, random_state=0)\n",
    "\n",
    "model.fit(x_train, y_train)\n",
    "\n",
    "y_pred = model.predict(x_train)\n",
    "mse = mean_squared_error(y_pred, y_train)\n",
    "print('Train MSE:', mse)\n",
    "\n",
    "y_pred = model.predict(x_test)\n",
    "mse = mean_squared_error(y_test, y_pred)\n",
    "print('Test MSE:', mse)\n",
    "\n",
    "plt.scatter(x, y, color='red', s=50)\n",
    "plt.scatter(x, model.predict(x), s=50, marker='x')\n",
    "\n",
    "\n",
    "\n",
    "for ind, num in enumerate(num_of_cells):\n",
    "    if num > 1:\n",
    "        new_poro = model.predict(perm_d_2[ind].reshape(-1,1))[0]\n",
    "        poro_d_2[ind] = new_poro"
   ]
  },
  {
   "cell_type": "code",
   "execution_count": null,
   "metadata": {},
   "outputs": [],
   "source": [
    "poro_stat, perm_stat = [], []\n",
    "for ind, num in enumerate(num_of_cells):\n",
    "    for _ in range(num):\n",
    "        poro_stat.append(poro_d_2[ind])\n",
    "        perm_stat.append(perm_d_2[ind])"
   ]
  },
  {
   "cell_type": "code",
   "execution_count": null,
   "metadata": {},
   "outputs": [],
   "source": [
    "plt.hist(poro_d  , alpha=0.5, density=True, label='Initial', bins=25)\n",
    "plt.hist(poro_stat, alpha=0.5, density=True, label='Coarsed', bins=25)\n",
    "plt.legend(loc='upper right')\n",
    "plt.show()\n"
   ]
  },
  {
   "cell_type": "code",
   "execution_count": null,
   "metadata": {},
   "outputs": [],
   "source": [
    "plt.hist(perm_d , alpha=0.5, density=True, label='Initial', bins=25)\n",
    "plt.hist(perm_stat, alpha=0.5, density=True, label='Coarsed', bins=25)\n",
    "plt.legend(loc='upper right')\n",
    "plt.show()\n"
   ]
  },
  {
   "cell_type": "code",
   "execution_count": null,
   "metadata": {
    "pycharm": {
     "name": "#%%\n"
    }
   },
   "outputs": [],
   "source": [
    "Gall[0].plot_signal(poro_d)\n",
    "Gall[1].plot_signal(poro_d_2)\n"
   ]
  },
  {
   "cell_type": "code",
   "execution_count": null,
   "metadata": {
    "pycharm": {
     "name": "#%%\n"
    }
   },
   "outputs": [],
   "source": [
    "Gall[0].plot_signal(perm_d)\n",
    "Gall[1].plot_signal(perm_d_2)"
   ]
  },
  {
   "cell_type": "code",
   "execution_count": null,
   "metadata": {},
   "outputs": [],
   "source": []
  }
 ],
 "metadata": {
  "kernelspec": {
   "display_name": "Python 3.7.15 ('DARTS')",
   "language": "python",
   "name": "python3"
  },
  "language_info": {
   "codemirror_mode": {
    "name": "ipython",
    "version": 3
   },
   "file_extension": ".py",
   "mimetype": "text/x-python",
   "name": "python",
   "nbconvert_exporter": "python",
   "pygments_lexer": "ipython3",
   "version": "3.7.15"
  },
  "vscode": {
   "interpreter": {
    "hash": "64c4ac99e8a3ceb1e5f25f3c3cbed0ce60dbc4cf0fbccb6d9ccb876a3e69365b"
   }
  }
 },
 "nbformat": 4,
 "nbformat_minor": 1
}
