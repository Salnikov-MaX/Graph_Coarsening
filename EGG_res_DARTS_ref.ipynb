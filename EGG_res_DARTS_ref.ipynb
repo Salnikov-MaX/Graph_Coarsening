{
 "cells": [
  {
   "cell_type": "code",
   "execution_count": 1,
   "metadata": {
    "pycharm": {
     "name": "#%%\n"
    }
   },
   "outputs": [],
   "source": [
    "from Grid_to_Graph.GRDECL_Parser import GRDECL_Parser\n",
    "from Grid_to_Graph.struct_discretizer import StructDiscretizer\n",
    "import numpy as np\n",
    "import graph_coarsening.graph_utils as graph_utils\n",
    "#import graph_coarsening.useful_custom_functions as useful_custom_functions\n",
    "from graph_coarsening.coarsening_utils import *\n",
    "from collections import defaultdict\n",
    "from operator import itemgetter\n",
    "import pandas as pd\n",
    "import fileinput\n",
    "import sys\n",
    "import os\n",
    "from pygsp import graphs\n",
    "import matplotlib.pyplot as plt\n",
    "%matplotlib inline\n",
    "# %matplotlib notebook\n",
    "# %pylab\n",
    "plt.rcParams['figure.figsize'] = (11, 9)"
   ]
  },
  {
   "cell_type": "code",
   "execution_count": 2,
   "metadata": {
    "pycharm": {
     "name": "#%%\n"
    }
   },
   "outputs": [],
   "source": [
    "def OneDim_to_ThreeDim_Converter(i_max, j_max, k_max, One_Dim):\n",
    "    # приводим массив к 3D размерности грида.\n",
    "    Three_Dim = np.reshape(One_Dim, (i_max, j_max, k_max), order='F')\n",
    "\n",
    "    return Three_Dim\n",
    "\n",
    "\n",
    "def get_coarsening(Gall, Call, size=5, node_size=20, title=\"\"):\n",
    "    edges_s = {}\n",
    "\n",
    "    n_levels = len(Gall) - 1\n",
    "    for level in range(n_levels):\n",
    "        G = Gall[level]\n",
    "        edges = np.array(G.get_edge_list()[0:2])\n",
    "\n",
    "        Gc = Gall[level + 1]\n",
    "        edges_c = np.array(Gc.get_edge_list()[0:2])\n",
    "        C = Call[level]\n",
    "        C = C.toarray()\n",
    "\n",
    "        for i in range(Gc.N):\n",
    "            subgraph = np.arange(G.N)[C[i, :] > 0]\n",
    "            edges_s[i] = subgraph\n",
    "            #if np.clip(len(subgraph) - 1, 0, 4) > 0:\n",
    "            #edges_s[i] = subgraph\n",
    "\n",
    "    return edges_s\n",
    "\n",
    "\n",
    "def replaceAll(file, searchExp, replaceExp):    \n",
    "    for line in fileinput.input(file, inplace=1):\n",
    "        if searchExp in line:\n",
    "            line = line.replace(searchExp,replaceExp)\n",
    "        sys.stdout.write(line)"
   ]
  },
  {
   "cell_type": "markdown",
   "metadata": {
    "pycharm": {
     "name": "#%% md\n"
    }
   },
   "source": [
    "Считываем данные по гриду"
   ]
  },
  {
   "cell_type": "code",
   "execution_count": 3,
   "metadata": {},
   "outputs": [],
   "source": [
    "# from grid2graph.data import *\n",
    "# dataset_list = get_dataset('dataset/', tensor_path='dataset/tensor.pt', i_max=60, j_max=60, z_max=1)\n",
    "# dataset_list"
   ]
  },
  {
   "cell_type": "code",
   "execution_count": 4,
   "metadata": {},
   "outputs": [],
   "source": [
    "# poro = []\n",
    "# perm = []\n",
    "\n",
    "# for d in tqdm(dataset_list):\n",
    "#     poro.append(d.x[:, 0].cpu())\n",
    "#     perm.append(d.x[:, 1].cpu())\n",
    "\n",
    "# poro = np.concatenate((poro), axis=0)\n",
    "# permx = np.concatenate((perm), axis=0)"
   ]
  },
  {
   "cell_type": "code",
   "execution_count": 5,
   "metadata": {},
   "outputs": [],
   "source": [
    "df = pd.read_csv('dataset/EGG.csv')"
   ]
  },
  {
   "cell_type": "code",
   "execution_count": 6,
   "metadata": {},
   "outputs": [],
   "source": [
    "coords = np.array(OneDim_to_ThreeDim_Converter(60, 60, 1, np.arange(3600) - 1))\n",
    "coords_new = np.zeros((3600, 3))\n",
    "for i in range(60):\n",
    "    for j in range(60):\n",
    "        for k in range(1):\n",
    "            if coords[i, j, k] != -1:\n",
    "                coords_new[int(coords[i, j, k])] = np.array([i, j, k])"
   ]
  },
  {
   "cell_type": "code",
   "execution_count": 7,
   "metadata": {
    "pycharm": {
     "name": "#%%\n"
    }
   },
   "outputs": [],
   "source": [
    "dx = 8 \n",
    "dy = 8\n",
    "dz = 4\n",
    "\n",
    "actnum = df['ACTNUM'].to_numpy() #dataset_list[0].label.cpu().numpy()\n",
    "nx = 60\n",
    "ny = 60\n",
    "nz = 1\n",
    "\n",
    "coord = coords_new\n",
    "\n",
    "zcorn = 0\n",
    "\n",
    "permx = df['PERM'].to_numpy() #grid_data.SpatialDatas['PERMX'] * 100\n",
    "permx[permx<=0] = 0.0002\n",
    "permy = permx\n",
    "permz = permy\n",
    "\n",
    "poro = df['PORO'].to_numpy()  #grid_data.SpatialDatas['PORO']\n",
    "poro[poro<=0] = 0.0002\n",
    "\n",
    "volume = np.zeros_like(poro)\n",
    "volume.fill(dx*dy*dz)\n",
    "\n",
    "depth = np.zeros_like(poro)\n",
    "depth.fill(1000)\n",
    "\n",
    "n = nx * ny * nz"
   ]
  },
  {
   "cell_type": "markdown",
   "metadata": {},
   "source": [
    "Получаем conection list"
   ]
  },
  {
   "cell_type": "code",
   "execution_count": 8,
   "metadata": {
    "pycharm": {
     "name": "#%%\n"
    }
   },
   "outputs": [
    {
     "name": "stdout",
     "output_type": "stream",
     "text": [
      "Building connection list...\n"
     ]
    }
   ],
   "source": [
    "discretizer = StructDiscretizer(nx=nx, ny=ny, nz=nz, dx=dx, dy=dy, dz=dz, permx=permx, permy=permy,\n",
    "                                              permz=permz, coord=coord, zcorn=zcorn)\n",
    "\n",
    "if discretizer.is_cpg:\n",
    "    cell_m, cell_p, tran, tran_thermal = discretizer.calc_cpg_discr()\n",
    "else:\n",
    "    cell_m, cell_p, tran, tran_thermal = discretizer.calc_structured_discr()"
   ]
  },
  {
   "cell_type": "code",
   "execution_count": 9,
   "metadata": {
    "pycharm": {
     "name": "#%%\n"
    }
   },
   "outputs": [
    {
     "name": "stdout",
     "output_type": "stream",
     "text": [
      "Applying ACTNUM...\n",
      "Inactive blocks due to ACTNUM:  1109\n",
      "Inactive connections due to transmissibility:  0\n",
      "Inactive connections total:  2213\n",
      "Inactive blocks due to inactive connections:  0\n"
     ]
    }
   ],
   "source": [
    "# apply actnum filter if needed - all arrays providing a value for a single grid block should be passed\n",
    "op_num = 0\n",
    "arrs = [poro, depth, volume, op_num]\n",
    "\n",
    "cell_m, cell_p, tran, tran_thermal, arrs_local = discretizer.apply_actnum_filter(actnum, cell_m,\n",
    "                                                                                 cell_p, tran,\n",
    "                                                                                 tran_thermal, arrs)\n",
    "poro, depth, volume, op_num = arrs_local\n",
    "permx = permx[actnum != 0]\n"
   ]
  },
  {
   "cell_type": "markdown",
   "metadata": {},
   "source": [
    "Создаём граф"
   ]
  },
  {
   "cell_type": "code",
   "execution_count": 10,
   "metadata": {},
   "outputs": [],
   "source": [
    "edges = list(zip(cell_m, cell_p))\n",
    "#weights = [1/t if t>0 else 1/0.0001 for t in tran]\n",
    "weights = list(tran)\n",
    "\n",
    "# Количество вершин в графе\n",
    "num_vertices = len(set(sum(edges, ())))\n",
    "\n",
    "# Создание матрицы смежности\n",
    "adjacency_matrix = np.zeros((num_vertices, num_vertices))\n",
    "for edge, weight in zip(edges, weights):\n",
    "    adjacency_matrix[edge[0], edge[1]] = weight\n",
    "    adjacency_matrix[edge[1], edge[0]] = weight"
   ]
  },
  {
   "cell_type": "code",
   "execution_count": 11,
   "metadata": {
    "pycharm": {
     "name": "#%%\n"
    }
   },
   "outputs": [],
   "source": [
    "coords = np.array(OneDim_to_ThreeDim_Converter(nx, ny, nz, np.arange(n) - 1))\n",
    "coords_new = np.zeros((n, 3))\n",
    "for i in range(nx):\n",
    "    for j in range(ny):\n",
    "        for k in range(nz):\n",
    "            if coords[i, j, k] != -1:\n",
    "                coords_new[int(coords[i, j, k])] = np.array([i, j, k])\n",
    "\n",
    "coords_new = coords_new[actnum != 0]"
   ]
  },
  {
   "cell_type": "code",
   "execution_count": 12,
   "metadata": {
    "pycharm": {
     "name": "#%%\n"
    }
   },
   "outputs": [],
   "source": [
    "N = coords_new.shape[0]\n",
    "\n",
    "G = graphs.Graph(adjacency_matrix)\n",
    "\n",
    "G.set_coordinates(coords_new)\n",
    "\n",
    "\n",
    "N = G.N\n",
    "L = G.L.toarray()\n",
    "S = graph_utils.get_S(G).T"
   ]
  },
  {
   "cell_type": "markdown",
   "metadata": {
    "pycharm": {
     "name": "#%% md\n"
    }
   },
   "source": [
    "Загрубляем граф"
   ]
  },
  {
   "cell_type": "code",
   "execution_count": 16,
   "metadata": {
    "pycharm": {
     "name": "#%%\n"
    }
   },
   "outputs": [
    {
     "name": "stdout",
     "output_type": "stream",
     "text": [
      "0.0002672237106275606\n",
      "0.0005543294504924226\n",
      "0.0006144456135103124\n",
      "0.0008092604052210706\n",
      "0.0011063649922977794\n",
      "0.0012854161005786484\n",
      "0.0013169452101909895\n",
      "0.0014280596417400528\n",
      "0.0016277871961758502\n",
      "0.0021634201653701578\n",
      "0.00236760648558344\n",
      "0.0026179536026270734\n",
      "0.003055307722244126\n",
      "0.0032436374528984195\n",
      "0.0034337270074777117\n",
      "0.0036262728745582256\n",
      "0.004268475367072474\n",
      "0.004819945354525389\n",
      "0.004996415090298227\n",
      "0.005575064095504673\n",
      "0.005631955216158789\n",
      "0.005905436607639378\n",
      "0.00599798850190935\n",
      "0.00628384616078545\n",
      "0.006539708933854074\n",
      "0.0067728805447804215\n",
      "0.006988395651658154\n",
      "0.007048235894271238\n",
      "0.00765515279728398\n",
      "0.00772668166910803\n",
      "0.008940440174554452\n",
      "0.009188908838708047\n",
      "0.00945811839842825\n",
      "0.009648113235506281\n",
      "0.009884307195698074\n",
      "0.010184676537964475\n",
      "0.010601618497626702\n",
      "0.010809608763067673\n",
      "0.011591774485439061\n",
      "0.012413116561891698\n",
      "0.01255303422758432\n",
      "0.012682520638232834\n",
      "0.013017452051840739\n",
      "0.013158796920964777\n",
      "0.014444387748987056\n",
      "0.014796232951041311\n",
      "0.014836175660858875\n",
      "0.015204562493132864\n",
      "0.015375716983893718\n",
      "0.015706756991790256\n",
      "0.015969888098775857\n",
      "0.016193021590561952\n",
      "0.01688538789998975\n",
      "0.01727224456714895\n",
      "0.017970906216806824\n",
      "0.018031579990467592\n",
      "0.018728503362046078\n",
      "0.01940211336127764\n",
      "0.019662979476201256\n",
      "0.020132520603786678\n",
      "0.02054242235298682\n",
      "0.021125717069357765\n",
      "0.02161092623887242\n",
      "0.022054453372855776\n",
      "0.022518420592388573\n",
      "0.022585331150117953\n",
      "0.022815908977632166\n",
      "0.023063974701637013\n",
      "0.023271841052719504\n",
      "0.023420524888619128\n",
      "0.02366395223602188\n",
      "0.023773236051334003\n",
      "0.024124924541911737\n",
      "0.024155590545238005\n",
      "0.02421595545508153\n",
      "0.024663099905840098\n",
      "0.024981584662495594\n",
      "0.02522101358112507\n",
      "0.025345481595396714\n",
      "0.025949403993644322\n",
      "0.026215581494776947\n",
      "0.026484690144434386\n",
      "0.02706488657437438\n",
      "0.027321633728531414\n",
      "0.02767786806743211\n",
      "0.027937689768695102\n",
      "0.028539505332508715\n",
      "0.028884899733574092\n",
      "0.02904181230519278\n",
      "0.029150071237524063\n",
      "0.030225431902369326\n",
      "0.03039892376921824\n",
      "0.030828191931232922\n",
      "0.03085303547450845\n",
      "0.031136624154824617\n",
      "0.03158017562341466\n",
      "0.032856688898096495\n",
      "0.03313280156339252\n",
      "0.03346782473911005\n",
      "0.033603249861643626\n",
      "0.03416484376907428\n",
      "0.03443928298266637\n",
      "0.03453348599755632\n",
      "0.03469946376519263\n",
      "0.034831262551649145\n",
      "0.035235172085553906\n",
      "0.03563389222512191\n",
      "0.03615621944774806\n",
      "0.03638713689908246\n",
      "0.0367102842514015\n",
      "0.036953468427510544\n",
      "0.03766044347276611\n",
      "0.03781396345336486\n",
      "0.03811214723425506\n",
      "0.038522151531431785\n",
      "0.038655388820218455\n",
      "0.038867489121044936\n",
      "0.039568843799378646\n",
      "0.04048946473136958\n",
      "0.04076027641494396\n",
      "0.04104592348610632\n",
      "0.041412961426340114\n",
      "0.041857602523673834\n",
      "0.04202557941001257\n",
      "0.04270607464795261\n",
      "0.043343742841959985\n",
      "0.04365046379607039\n",
      "0.044046594099346\n",
      "0.044273003950167165\n",
      "0.04464722082793162\n",
      "0.04472911510316989\n",
      "0.045305296364987084\n",
      "0.04561106967978798\n",
      "0.04581002930423212\n",
      "0.046008020537693456\n",
      "0.04629787266134805\n",
      "0.046842828130205474\n",
      "0.047192065667326824\n",
      "0.0480007404414439\n",
      "0.04832352636022945\n",
      "0.04883501593424249\n",
      "0.04908726905346994\n",
      "0.04928723666917598\n",
      "0.04947203192530947\n",
      "0.049733103888649946\n",
      "0.05001285034616003\n",
      "0.050335625787143554\n",
      "0.05063490232127732\n",
      "0.050935931106359744\n",
      "0.05144525048987597\n",
      "0.051693726514321005\n",
      "0.0518892392472717\n",
      "0.052412163084855044\n",
      "0.0526589665505172\n",
      "0.052909936384832254\n",
      "0.053137218689742506\n",
      "0.053385792250584506\n",
      "0.053726635262306144\n",
      "0.05537516955656543\n",
      "0.05547279279763184\n",
      "0.05564814713460818\n",
      "0.05570358649698881\n",
      "0.05585574291941179\n",
      "0.056032332115061104\n",
      "0.05630941768669577\n",
      "0.05666298359254997\n",
      "0.05680815352930284\n",
      "0.0568976383118906\n",
      "0.05715594649670711\n",
      "0.05735726728649382\n",
      "0.058023677893817835\n",
      "0.0584977204196737\n",
      "0.0589373340733093\n",
      "0.0590795114551782\n",
      "0.05935056235710769\n",
      "0.05995344780817017\n",
      "0.06017592067815536\n",
      "0.06026866248313432\n",
      "0.060723609196291974\n",
      "0.0609627662198529\n",
      "0.06164055318053476\n",
      "0.06236623586966091\n",
      "0.06269312355353067\n",
      "0.06287029631697613\n",
      "0.06301734227831472\n",
      "0.06337900491249684\n",
      "0.06374527466479199\n",
      "0.06411111440227459\n",
      "0.06489041493942212\n",
      "0.06520536209600364\n",
      "0.0653954551000258\n",
      "0.06557813167742207\n",
      "0.06582859406861083\n",
      "0.06616292358299901\n",
      "0.06636547701462064\n",
      "0.06707770780648523\n",
      "0.0679991941904664\n",
      "0.06860644424222072\n",
      "0.0692349040922549\n",
      "0.0697457975113673\n",
      "0.0699885199152325\n",
      "0.07023179616588304\n",
      "0.07083450468372389\n",
      "0.07158372884378081\n",
      "0.07183055344029414\n",
      "0.07210075433090342\n",
      "0.07241398871429947\n",
      "0.07247513453148885\n",
      "0.07329941224061226\n",
      "0.07376265043063288\n",
      "0.07397728838930892\n",
      "0.07405390376298696\n",
      "0.07448320013943326\n",
      "0.07474334576488417\n",
      "0.07499258468580414\n",
      "0.07526492680665561\n",
      "0.07528226077267794\n",
      "0.07562563843179257\n",
      "0.07602781768194725\n",
      "0.07623579873496897\n",
      "0.07628396864825038\n",
      "0.07707641372415762\n",
      "0.0782155658810442\n",
      "0.07871164136059158\n",
      "0.0794751530079344\n",
      "0.07983825114695926\n",
      "0.08010128138229215\n",
      "0.08035150838384188\n",
      "0.08092226844509513\n",
      "0.08122565459028026\n",
      "0.08135452584416676\n",
      "0.08194815165449114\n",
      "0.08226898500865763\n",
      "0.08287573234174013\n",
      "0.08308930492435193\n",
      "0.0836080862295217\n",
      "0.08422737713701725\n",
      "0.08497224240252772\n",
      "0.08550756275512812\n",
      "0.08607362563335524\n",
      "0.08630748688314996\n",
      "0.08655165441376779\n",
      "0.08740002052472094\n",
      "0.08791838989442849\n",
      "0.08908402967712672\n",
      "0.08988877684287125\n",
      "0.09007498386753351\n",
      "0.09030953077435994\n",
      "0.09067182323619691\n",
      "0.09087537868850307\n",
      "0.09111534471896741\n",
      "0.09153692018336422\n",
      "0.09196270609811218\n",
      "0.09229682718326646\n",
      "0.09237536931897711\n",
      "0.09271212848310083\n",
      "0.09289295249045573\n",
      "0.09294551341550247\n",
      "0.09324764411449102\n",
      "0.09351947441616842\n",
      "0.09434766329758046\n",
      "0.09499839071036686\n",
      "0.09567156797448431\n",
      "0.09610872767771247\n",
      "0.09659617703251014\n",
      "0.09695840244797369\n",
      "0.09813740927143147\n",
      "0.0986018752905465\n",
      "0.09888870541232714\n",
      "0.0992808065442259\n",
      "0.09959334588296428\n",
      "0.10035227477069524\n",
      "0.1006966408349272\n",
      "0.10105901204740222\n",
      "0.10148832460811201\n",
      "0.10201691006816185\n",
      "0.10216837472159099\n",
      "0.10231688998165982\n",
      "0.10271056322928858\n",
      "0.10300880398556114\n",
      "0.10323300181702608\n",
      "0.1039044646177913\n",
      "0.10399631007624302\n",
      "0.10406680669365073\n",
      "0.10476417372826081\n",
      "0.1049090733009824\n",
      "0.10500850441223539\n",
      "0.1050317667772056\n",
      "0.10508443865288578\n",
      "0.10537325125643593\n",
      "0.10569641419433115\n",
      "0.106158780633089\n",
      "0.1065170904233151\n",
      "0.10671582237805469\n",
      "0.10705902084145255\n",
      "0.10747930631964245\n",
      "0.1079850786349567\n",
      "0.10846631493413535\n",
      "0.1087606966251875\n",
      "0.10903881850761277\n",
      "0.1096390048344136\n",
      "0.11008616386434131\n",
      "0.11043207282948105\n",
      "0.11084840001026681\n",
      "0.11121933018941385\n",
      "0.11172611953081754\n",
      "0.11229757188037973\n",
      "0.11292871812853175\n",
      "0.11308139726953556\n",
      "0.1132767753803012\n",
      "0.1136912020641829\n",
      "0.11420503005165179\n",
      "0.11447284957513919\n",
      "0.11502942600215145\n",
      "0.11623944325357634\n",
      "0.1164925037329737\n",
      "0.11657631522505577\n",
      "0.11669625880976386\n",
      "0.1171134603016254\n",
      "0.11758298773171502\n",
      "0.11794456173512524\n",
      "0.11824042488501196\n",
      "0.11846696400481618\n",
      "0.1186589297134436\n",
      "0.11893308098387174\n",
      "0.11909593220370833\n",
      "0.11953513425399194\n",
      "0.12000625339335651\n",
      "0.12025203512465266\n",
      "0.12123372081841395\n",
      "0.12124429979209658\n",
      "0.12187645550076169\n",
      "0.12239963617250178\n",
      "0.12273561748689155\n",
      "0.12323264637908835\n",
      "0.12354571570804314\n",
      "0.12377236884219663\n",
      "0.12404512611665748\n",
      "0.12410569893189911\n",
      "0.12447062105586668\n",
      "0.12483426260708966\n",
      "0.12549794419624166\n",
      "0.12599073430344157\n",
      "0.12677465129686402\n",
      "0.12685525178212964\n",
      "0.12737907309417754\n",
      "0.12752724631586437\n",
      "0.1278571113131806\n",
      "0.12818626695537183\n",
      "0.12837574050181444\n",
      "0.12845300419548686\n",
      "0.12870417078534174\n",
      "0.12947213851900558\n",
      "0.13000061063693996\n",
      "0.1305671783427609\n",
      "0.1313882313306688\n",
      "0.13182485788430426\n",
      "0.13227253256235805\n",
      "0.1326993834758095\n",
      "0.1333339921851447\n",
      "0.13390389900793712\n",
      "0.13404968725152053\n",
      "0.13458350651599774\n",
      "0.13505901621823452\n",
      "0.13575901558525677\n",
      "0.13607212621117676\n",
      "0.13635262006959\n",
      "0.13722957012134304\n",
      "0.1375368164490313\n",
      "0.13771854588644045\n",
      "0.1378762702753701\n",
      "0.13875269729584655\n",
      "0.13889667242870113\n"
     ]
    }
   ],
   "source": [
    "# Parameters\n",
    "r = 0.15   # the extend of dimensionality reduction (r=0 means no reduction)\n",
    "k = 10\n",
    "max_error = None\n",
    "\n",
    "kmax = int(3 * k)\n",
    "\n",
    "coarsening_list, err_list = coarsen(G, K=k, r=r, max_error=max_error)\n",
    "\n",
    "Gall = get_coarsed_graph(G, coarsening_list)\n"
   ]
  },
  {
   "cell_type": "code",
   "execution_count": 17,
   "metadata": {},
   "outputs": [
    {
     "data": {
      "text/plain": [
       "<matplotlib.collections.PathCollection at 0x25bd5986cc8>"
      ]
     },
     "execution_count": 17,
     "metadata": {},
     "output_type": "execute_result"
    },
    {
     "data": {
      "image/png": "[encoded data removed]",
      "text/plain": [
       "<Figure size 1100x900 with 1 Axes>"
      ]
     },
     "metadata": {},
     "output_type": "display_data"
    }
   ],
   "source": [
    "plt.scatter(Gall[0].coords[:,[0]], Gall[0].coords[:,[1]])"
   ]
  },
  {
   "cell_type": "code",
   "execution_count": 18,
   "metadata": {},
   "outputs": [
    {
     "data": {
      "text/plain": [
       "<matplotlib.collections.PathCollection at 0x25bd59a9d88>"
      ]
     },
     "execution_count": 18,
     "metadata": {},
     "output_type": "execute_result"
    },
    {
     "data": {
      "image/png": "[encoded data removed]",
      "text/plain": [
       "<Figure size 1100x900 with 1 Axes>"
      ]
     },
     "metadata": {},
     "output_type": "display_data"
    }
   ],
   "source": [
    "plt.scatter(Gall[1].coords[:,[0]], Gall[1].coords[:,[1]])"
   ]
  },
  {
   "cell_type": "code",
   "execution_count": null,
   "metadata": {},
   "outputs": [],
   "source": []
  }
 ],
 "metadata": {
  "kernelspec": {
   "display_name": "Python 3.7.15 ('DARTS')",
   "language": "python",
   "name": "python3"
  },
  "language_info": {
   "codemirror_mode": {
    "name": "ipython",
    "version": 3
   },
   "file_extension": ".py",
   "mimetype": "text/x-python",
   "name": "python",
   "nbconvert_exporter": "python",
   "pygments_lexer": "ipython3",
   "version": "3.7.15"
  },
  "vscode": {
   "interpreter": {
    "hash": "64c4ac99e8a3ceb1e5f25f3c3cbed0ce60dbc4cf0fbccb6d9ccb876a3e69365b"
   }
  }
 },
 "nbformat": 4,
 "nbformat_minor": 1
}
